{
 "cells": [
  {
   "cell_type": "markdown",
   "metadata": {},
   "source": [
    "# In-class exercise 1\n",
    "\n",
    "**Author:**"
   ]
  },
  {
   "cell_type": "markdown",
   "metadata": {},
   "source": [
    "**Exercise 1:**\n",
    "\n",
    "Write a program that separates the even and odd numbers from 1 to 100 and save them into two different lists. Stop the program if the sum of either of the two lists is larger than 20.\n",
    "\n",
    "*Hint:* \n",
    "\n",
    "1. for any two numbers ```n``` and ```m``` the modulo of ```n``` and ```m``` equals the remainder of dividing ```n/m``` (for instance, the modulo of 2/4 is 0). In Python, the module of any two numbers ```n``` and ```m``` is ```n%m``` \n",
    "\n",
    "2. to evaluate an or condition in Python, you can do ```if condition 1 or condition 2```\n",
    "\n",
    "**Expected output:** even = [2, 4, 6, 8] and odd = [1, 3, 5, 7, 9]"
   ]
  },
  {
   "cell_type": "code",
   "execution_count": 3,
   "metadata": {},
   "outputs": [
    {
     "name": "stdout",
     "output_type": "stream",
     "text": [
      "[2, 4, 6, 8, 10] [1, 3, 5, 7, 9]\n"
     ]
    }
   ],
   "source": [
    "n=1\n",
    "odd_list=[]\n",
    "even_list=[]\n",
    "while sum(odd_list)<=20 or sum(even_list)<=20:\n",
    "    \n",
    "    if n%2==0:\n",
    "        even_list.append(n)\n",
    "    else:\n",
    "        odd_list.append(n)\n",
    "    n+=1\n",
    "    \n",
    "        \n",
    "print(even_list, odd_list)"
   ]
  },
  {
   "cell_type": "markdown",
   "metadata": {},
   "source": [
    "**Exercise 2:**\n",
    "\n",
    "Write a Python program that saves all the numbers from 0 to 6 except 3 and 6 in a list called ```numbers_list```\n",
    "\n",
    "*Hint:* to evaluate if two values are different use ```!=```, and to check if two conditions are true at the same time use ```if condition 1 and condition 2```\n",
    "\n",
    "**Expected output:** number_list = [0,1,2,4,5]"
   ]
  },
  {
   "cell_type": "code",
   "execution_count": 6,
   "metadata": {},
   "outputs": [
    {
     "name": "stdout",
     "output_type": "stream",
     "text": [
      "[0, 1, 2, 4, 5]\n"
     ]
    }
   ],
   "source": [
    "n=0\n",
    "number_list=[]\n",
    "\n",
    "for n in range(6):\n",
    "    if n!=3 and n!=6:\n",
    "        number_list.append(n)\n",
    "print(number_list)\n",
    "  "
   ]
  },
  {
   "cell_type": "code",
   "execution_count": null,
   "metadata": {},
   "outputs": [],
   "source": []
  }
 ],
 "metadata": {
  "kernelspec": {
   "display_name": "conda_amazonei_mxnet_p36",
   "language": "python",
   "name": "conda_amazonei_mxnet_p36"
  },
  "language_info": {
   "codemirror_mode": {
    "name": "ipython",
    "version": 3
   },
   "file_extension": ".py",
   "mimetype": "text/x-python",
   "name": "python",
   "nbconvert_exporter": "python",
   "pygments_lexer": "ipython3",
   "version": "3.6.13"
  },
  "vscode": {
   "interpreter": {
    "hash": "9fbb33e86ca55080a202fed700efde3fb4ffe3f46131e5b52201b9ba06ce5f72"
   }
  }
 },
 "nbformat": 4,
 "nbformat_minor": 4
}
